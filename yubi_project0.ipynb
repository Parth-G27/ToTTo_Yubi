{
  "cells": [
    {
      "cell_type": "markdown",
      "metadata": {
        "id": "view-in-github",
        "colab_type": "text"
      },
      "source": [
        "<a href=\"https://colab.research.google.com/github/Parth-G27/ToTTo_Yubi/blob/main/yubi_project0.ipynb\" target=\"_parent\"><img src=\"https://colab.research.google.com/assets/colab-badge.svg\" alt=\"Open In Colab\"/></a>"
      ]
    },
    {
      "cell_type": "code",
      "source": [
        "# from google.colab import files\n",
        "# uploaded = files.upload()"
      ],
      "metadata": {
        "id": "BTTLuW1nqT_9"
      },
      "execution_count": 238,
      "outputs": []
    },
    {
      "cell_type": "code",
      "source": [
        "import io\n",
        "import pandas as pd\n",
        "import numpy\n",
        "df = pd.read_csv('region_deciles_data.csv')\n",
        "# print(df)"
      ],
      "metadata": {
        "id": "DE8euZ2Yqk0-"
      },
      "execution_count": 239,
      "outputs": []
    },
    {
      "cell_type": "code",
      "execution_count": 240,
      "metadata": {
        "id": "C9Rs_YY7CtYL"
      },
      "outputs": [],
      "source": [
        "import numpy as np\n",
        "from google.colab import drive\n",
        "# df = pd.read_csv('/content/sample_data/california_housing_test.csv')\n",
        "# /content/sample_data/financial_data0.csv\n",
        "financial_data = {}"
      ]
    },
    {
      "cell_type": "code",
      "source": [
        "# from google.colab import drive\n",
        "# drive.mount('/content/drive')"
      ],
      "metadata": {
        "id": "Pd2Wj1HEsWV-"
      },
      "execution_count": 241,
      "outputs": []
    },
    {
      "cell_type": "code",
      "source": [
        "print(df.columns)"
      ],
      "metadata": {
        "colab": {
          "base_uri": "https://localhost:8080/"
        },
        "id": "eQ1HwiCjhDP3",
        "outputId": "ab909840-e8c0-41d3-e5f4-9bfeb7dd9117"
      },
      "execution_count": 242,
      "outputs": [
        {
          "output_type": "stream",
          "name": "stdout",
          "text": [
            "Index(['GCAM_region_ID', 'year', 'Category', 'region_shares', 'gdp_pcap',\n",
            "       'tot_gdp', 'tot_pop', 'region_gini'],\n",
            "      dtype='object')\n"
          ]
        }
      ]
    },
    {
      "cell_type": "code",
      "source": [
        "for i in df.columns:\n",
        "  financial_data[i]=df[i]\n"
      ],
      "metadata": {
        "id": "Cx85NGAnhHVo"
      },
      "execution_count": 243,
      "outputs": []
    },
    {
      "cell_type": "code",
      "source": [
        "print(financial_data.keys())"
      ],
      "metadata": {
        "colab": {
          "base_uri": "https://localhost:8080/"
        },
        "id": "9LKAUAFIhMqM",
        "outputId": "92ef896f-c5d5-45c9-bbb0-2f4a992580f2"
      },
      "execution_count": 244,
      "outputs": [
        {
          "output_type": "stream",
          "name": "stdout",
          "text": [
            "dict_keys(['GCAM_region_ID', 'year', 'Category', 'region_shares', 'gdp_pcap', 'tot_gdp', 'tot_pop', 'region_gini'])\n"
          ]
        }
      ]
    },
    {
      "cell_type": "code",
      "source": [
        "for i in financial_data.keys():\n",
        "  print(i)\n",
        "  print(type(financial_data[i][0]))\n",
        "  print('---')"
      ],
      "metadata": {
        "colab": {
          "base_uri": "https://localhost:8080/"
        },
        "id": "HfxLTDMrlW_W",
        "outputId": "3500f1d0-6dab-44d6-d614-340d50139c79"
      },
      "execution_count": 245,
      "outputs": [
        {
          "output_type": "stream",
          "name": "stdout",
          "text": [
            "GCAM_region_ID\n",
            "<class 'numpy.int64'>\n",
            "---\n",
            "year\n",
            "<class 'numpy.int64'>\n",
            "---\n",
            "Category\n",
            "<class 'str'>\n",
            "---\n",
            "region_shares\n",
            "<class 'numpy.float64'>\n",
            "---\n",
            "gdp_pcap\n",
            "<class 'numpy.float64'>\n",
            "---\n",
            "tot_gdp\n",
            "<class 'numpy.float64'>\n",
            "---\n",
            "tot_pop\n",
            "<class 'numpy.float64'>\n",
            "---\n",
            "region_gini\n",
            "<class 'numpy.float64'>\n",
            "---\n"
          ]
        }
      ]
    },
    {
      "cell_type": "code",
      "source": [
        "# print(type(financial_data['longitude']))\n",
        "# print(financial_data['longitude'][0])\n",
        "# print(financial_data['longitude'][1],\"--\")\n",
        "# print(financial_data['longitude'][:3])\n",
        "# print(financial_data['longitude'].sum())\n",
        "# print(type(financial_data['longitude'].sum()))"
      ],
      "metadata": {
        "id": "WQXtwojOW1c3"
      },
      "execution_count": 246,
      "outputs": []
    },
    {
      "cell_type": "code",
      "source": [
        "for i in financial_data.keys():\n",
        "  # print(isinstance(financial_data[i][0],numpy.float64))\n",
        "  if(isinstance(financial_data[i][0],numpy.float64)):\n",
        "    print(i)"
      ],
      "metadata": {
        "colab": {
          "base_uri": "https://localhost:8080/"
        },
        "id": "21DdXdDzHSbn",
        "outputId": "a3874128-9828-417a-d5d8-eac358bca50c"
      },
      "execution_count": 247,
      "outputs": [
        {
          "output_type": "stream",
          "name": "stdout",
          "text": [
            "region_shares\n",
            "gdp_pcap\n",
            "tot_gdp\n",
            "tot_pop\n",
            "region_gini\n"
          ]
        }
      ]
    },
    {
      "cell_type": "code",
      "source": [
        "a = 0;\n",
        "info = {}\n",
        "for i in financial_data.keys():\n",
        "  if(isinstance(financial_data[i][0],numpy.float64) or isinstance(financial_data[i][0],numpy.int64) or isinstance(financial_data[i][0],float) or isinstance(financial_data[i][0],int)):\n",
        "    info[i] = {'mean':0,'median':0,'standard_deviation':0,'sum':0}\n",
        "    info[i]['mean'] = financial_data[i].mean()\n",
        "    info[i]['median'] = financial_data[i].median()\n",
        "    info[i]['standard_deviation'] = financial_data[i].std()\n",
        "    info[i]['sum'] = financial_data[i].sum()\n",
        "\n",
        ""
      ],
      "metadata": {
        "id": "Y9AAsgCZW-Rz"
      },
      "execution_count": 248,
      "outputs": []
    },
    {
      "cell_type": "code",
      "source": [
        "print(info.keys())"
      ],
      "metadata": {
        "id": "KAolfjrpathC",
        "colab": {
          "base_uri": "https://localhost:8080/"
        },
        "outputId": "ccb67690-a29d-4767-90ec-ede3c853f4d7"
      },
      "execution_count": 249,
      "outputs": [
        {
          "output_type": "stream",
          "name": "stdout",
          "text": [
            "dict_keys(['GCAM_region_ID', 'year', 'region_shares', 'gdp_pcap', 'tot_gdp', 'tot_pop', 'region_gini'])\n"
          ]
        }
      ]
    },
    {
      "cell_type": "code",
      "source": [
        "for i in info.keys():\n",
        "  print(i,info[i])"
      ],
      "metadata": {
        "colab": {
          "base_uri": "https://localhost:8080/"
        },
        "id": "kAyp2inSEsqP",
        "outputId": "b05cb560-81b6-4938-b28d-e64afbbdea6c"
      },
      "execution_count": 250,
      "outputs": [
        {
          "output_type": "stream",
          "name": "stdout",
          "text": [
            "GCAM_region_ID {'mean': 16.494267515923568, 'median': 16.0, 'standard_deviation': 9.228899695877208, 'sum': 258960}\n",
            "year {'mean': 1990.9624203821656, 'median': 1991.0, 'standard_deviation': 14.17324272987426, 'sum': 31258110}\n",
            "region_shares {'mean': 0.10000000000872611, 'median': 0.073005438, 'standard_deviation': 0.09292812453820985, 'sum': 1570.000000137}\n",
            "gdp_pcap {'mean': 13849.285506620128, 'median': 10173.09162, 'standard_deviation': 12277.75408555984, 'sum': 217433782.453936}\n",
            "tot_gdp {'mean': 1708328551374.5574, 'median': 657562500000.0, 'standard_deviation': 2839239132091.7173, 'sum': 2.682075825658055e+16}\n",
            "tot_pop {'mean': 167982954.82942677, 'median': 88652255.7, 'standard_deviation': 245438981.2680012, 'sum': 2637332390822.0}\n",
            "region_gini {'mean': 0.4227444747050955, 'median': 0.414431386, 'standard_deviation': 0.10459041666430569, 'sum': 6637.088252869999}\n"
          ]
        }
      ]
    },
    {
      "cell_type": "code",
      "source": [
        "a                              =                                9\n",
        "b=834\n",
        "print(a,b)"
      ],
      "metadata": {
        "id": "vTOXpK1Ha9CR",
        "colab": {
          "base_uri": "https://localhost:8080/"
        },
        "outputId": "3b4afe06-99bb-404d-d0bf-a1ec3b115e33"
      },
      "execution_count": 251,
      "outputs": [
        {
          "output_type": "stream",
          "name": "stdout",
          "text": [
            "9 834\n"
          ]
        }
      ]
    },
    {
      "cell_type": "code",
      "source": [],
      "metadata": {
        "id": "9qL9nTPrucFw"
      },
      "execution_count": 251,
      "outputs": []
    }
  ],
  "metadata": {
    "colab": {
      "provenance": [],
      "authorship_tag": "ABX9TyNAq5WUj6X3XY7kpFrp/UD+",
      "include_colab_link": true
    },
    "kernelspec": {
      "display_name": "Python 3",
      "name": "python3"
    },
    "language_info": {
      "name": "python"
    }
  },
  "nbformat": 4,
  "nbformat_minor": 0
}