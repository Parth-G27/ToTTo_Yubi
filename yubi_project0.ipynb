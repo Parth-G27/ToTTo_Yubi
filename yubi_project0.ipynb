{
  "cells": [
    {
      "cell_type": "markdown",
      "metadata": {
        "id": "view-in-github",
        "colab_type": "text"
      },
      "source": [
        "<a href=\"https://colab.research.google.com/github/Parth-G27/ToTTo_Yubi/blob/main/yubi_project0.ipynb\" target=\"_parent\"><img src=\"https://colab.research.google.com/assets/colab-badge.svg\" alt=\"Open In Colab\"/></a>"
      ]
    },
    {
      "cell_type": "code",
      "execution_count": 18,
      "metadata": {
        "id": "C9Rs_YY7CtYL"
      },
      "outputs": [],
      "source": [
        "import pandas as pd\n",
        "import numpy as np\n",
        "\n",
        "from google.colab import drive\n",
        "\n",
        "\n",
        "df = pd.read_csv('/content/sample_data/california_housing_test.csv')\n",
        "# /content/sample_data/financial_data0.csv\n",
        "financial_data = {}\n",
        "mean_info = {}"
      ]
    },
    {
      "cell_type": "code",
      "source": [
        "print(df.columns)"
      ],
      "metadata": {
        "colab": {
          "base_uri": "https://localhost:8080/"
        },
        "id": "eQ1HwiCjhDP3",
        "outputId": "44d2973f-0067-4ff2-bc9c-0514a8128f9d"
      },
      "execution_count": 19,
      "outputs": [
        {
          "output_type": "stream",
          "name": "stdout",
          "text": [
            "Index(['longitude', 'latitude', 'housing_median_age', 'total_rooms',\n",
            "       'total_bedrooms', 'population', 'households', 'median_income',\n",
            "       'median_house_value'],\n",
            "      dtype='object')\n"
          ]
        }
      ]
    },
    {
      "cell_type": "code",
      "source": [
        "for i in df.columns:\n",
        "  financial_data[i]=df[i]\n"
      ],
      "metadata": {
        "id": "Cx85NGAnhHVo"
      },
      "execution_count": 20,
      "outputs": []
    },
    {
      "cell_type": "code",
      "source": [
        "print(financial_data.keys())"
      ],
      "metadata": {
        "colab": {
          "base_uri": "https://localhost:8080/"
        },
        "id": "9LKAUAFIhMqM",
        "outputId": "54c8b549-b869-4207-ec65-46a3a7d8fdb5"
      },
      "execution_count": 22,
      "outputs": [
        {
          "output_type": "stream",
          "name": "stdout",
          "text": [
            "dict_keys(['longitude', 'latitude', 'housing_median_age', 'total_rooms', 'total_bedrooms', 'population', 'households', 'median_income', 'median_house_value'])\n"
          ]
        }
      ]
    },
    {
      "cell_type": "code",
      "source": [
        "for i in financial_data.keys():\n",
        "  print(i)\n",
        "  print(type(financial_data[i][0]))\n",
        "  print('---')"
      ],
      "metadata": {
        "colab": {
          "base_uri": "https://localhost:8080/"
        },
        "id": "HfxLTDMrlW_W",
        "outputId": "02c2ec7b-c02d-4d71-bba5-c0679f5f65b7"
      },
      "execution_count": 32,
      "outputs": [
        {
          "output_type": "stream",
          "name": "stdout",
          "text": [
            "longitude\n",
            "<class 'str'>\n",
            "<class 'numpy.float64'>\n",
            "---\n",
            "latitude\n",
            "<class 'str'>\n",
            "<class 'numpy.float64'>\n",
            "---\n",
            "housing_median_age\n",
            "<class 'str'>\n",
            "<class 'numpy.float64'>\n",
            "---\n",
            "total_rooms\n",
            "<class 'str'>\n",
            "<class 'numpy.float64'>\n",
            "---\n",
            "total_bedrooms\n",
            "<class 'str'>\n",
            "<class 'numpy.float64'>\n",
            "---\n",
            "population\n",
            "<class 'str'>\n",
            "<class 'numpy.float64'>\n",
            "---\n",
            "households\n",
            "<class 'str'>\n",
            "<class 'numpy.float64'>\n",
            "---\n",
            "median_income\n",
            "<class 'str'>\n",
            "<class 'numpy.float64'>\n",
            "---\n",
            "median_house_value\n",
            "<class 'str'>\n",
            "<class 'numpy.float64'>\n",
            "---\n"
          ]
        }
      ]
    },
    {
      "cell_type": "code",
      "source": [
        "print(financial_data['longitude'][0])\n",
        "type(financial_data['longitude'][0])"
      ],
      "metadata": {
        "colab": {
          "base_uri": "https://localhost:8080/"
        },
        "id": "WQXtwojOW1c3",
        "outputId": "4d795c8d-b32b-40c5-84df-09af5670766c"
      },
      "execution_count": 30,
      "outputs": [
        {
          "output_type": "stream",
          "name": "stdout",
          "text": [
            "-122.05\n"
          ]
        },
        {
          "output_type": "execute_result",
          "data": {
            "text/plain": [
              "numpy.float64"
            ]
          },
          "metadata": {},
          "execution_count": 30
        }
      ]
    },
    {
      "cell_type": "code",
      "source": [],
      "metadata": {
        "id": "Y9AAsgCZW-Rz"
      },
      "execution_count": null,
      "outputs": []
    }
  ],
  "metadata": {
    "colab": {
      "provenance": [],
      "authorship_tag": "ABX9TyPvHpyXFLICPHCg+Tz10zXB",
      "include_colab_link": true
    },
    "kernelspec": {
      "display_name": "Python 3",
      "name": "python3"
    },
    "language_info": {
      "name": "python"
    }
  },
  "nbformat": 4,
  "nbformat_minor": 0
}