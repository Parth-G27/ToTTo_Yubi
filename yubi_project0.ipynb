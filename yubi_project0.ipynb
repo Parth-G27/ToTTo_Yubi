{
  "cells": [
    {
      "attachments": {},
      "cell_type": "markdown",
      "metadata": {
        "colab_type": "text",
        "id": "view-in-github"
      },
      "source": [
        "<a href=\"https://colab.research.google.com/github/Parth-G27/ToTTo_Yubi/blob/main/yubi_project0.ipynb\" target=\"_parent\"><img src=\"https://colab.research.google.com/assets/colab-badge.svg\" alt=\"Open In Colab\"/></a>"
      ]
    },
    {
      "cell_type": "code",
      "execution_count": 1,
      "metadata": {
        "id": "C9Rs_YY7CtYL"
      },
      "outputs": [],
      "source": [
        "import pandas as pd\n",
        "import numpy as np\n",
        "#from google.colab import drive\n",
        "\n",
        "df = pd.read_csv('data/california_housing_test.csv')\n",
        "# /content/sample_data/financial_data0.csv\n",
        "financial_data = {}\n",
        "mean_info = {}"
      ]
    },
    {
      "cell_type": "code",
      "execution_count": 2,
      "metadata": {
        "colab": {
          "base_uri": "https://localhost:8080/"
        },
        "id": "eQ1HwiCjhDP3",
        "outputId": "44d2973f-0067-4ff2-bc9c-0514a8128f9d"
      },
      "outputs": [
        {
          "name": "stdout",
          "output_type": "stream",
          "text": [
            "Index(['longitude', 'latitude', 'housing_median_age', 'total_rooms',\n",
            "       'total_bedrooms', 'population', 'households', 'median_income',\n",
            "       'median_house_value'],\n",
            "      dtype='object')\n"
          ]
        }
      ],
      "source": [
        "print(df.columns)"
      ]
    },
    {
      "cell_type": "code",
      "execution_count": 3,
      "metadata": {
        "id": "Cx85NGAnhHVo"
      },
      "outputs": [],
      "source": [
        "for i in df.columns:\n",
        "  financial_data[i]=df[i]"
      ]
    },
    {
      "cell_type": "code",
      "execution_count": 4,
      "metadata": {
        "colab": {
          "base_uri": "https://localhost:8080/"
        },
        "id": "9LKAUAFIhMqM",
        "outputId": "54c8b549-b869-4207-ec65-46a3a7d8fdb5"
      },
      "outputs": [
        {
          "name": "stdout",
          "output_type": "stream",
          "text": [
            "dict_keys(['longitude', 'latitude', 'housing_median_age', 'total_rooms', 'total_bedrooms', 'population', 'households', 'median_income', 'median_house_value'])\n"
          ]
        }
      ],
      "source": [
        "print(financial_data.keys())"
      ]
    },
    {
      "cell_type": "code",
      "execution_count": 5,
      "metadata": {
        "colab": {
          "base_uri": "https://localhost:8080/"
        },
        "id": "HfxLTDMrlW_W",
        "outputId": "02c2ec7b-c02d-4d71-bba5-c0679f5f65b7"
      },
      "outputs": [
        {
          "name": "stdout",
          "output_type": "stream",
          "text": [
            "longitude\n",
            "<class 'numpy.float64'>\n",
            "---\n",
            "latitude\n",
            "<class 'numpy.float64'>\n",
            "---\n",
            "housing_median_age\n",
            "<class 'numpy.float64'>\n",
            "---\n",
            "total_rooms\n",
            "<class 'numpy.float64'>\n",
            "---\n",
            "total_bedrooms\n",
            "<class 'numpy.float64'>\n",
            "---\n",
            "population\n",
            "<class 'numpy.float64'>\n",
            "---\n",
            "households\n",
            "<class 'numpy.float64'>\n",
            "---\n",
            "median_income\n",
            "<class 'numpy.float64'>\n",
            "---\n",
            "median_house_value\n",
            "<class 'numpy.float64'>\n",
            "---\n"
          ]
        }
      ],
      "source": [
        "for i in financial_data.keys():\n",
        "  print(i)\n",
        "  print(type(financial_data[i][0]))\n",
        "  print('---')"
      ]
    },
    {
      "cell_type": "code",
      "execution_count": null,
      "metadata": {
        "colab": {
          "base_uri": "https://localhost:8080/"
        },
        "id": "WQXtwojOW1c3",
        "outputId": "4d795c8d-b32b-40c5-84df-09af5670766c"
      },
      "outputs": [],
      "source": []
    },
    {
      "cell_type": "code",
      "execution_count": null,
      "metadata": {
        "id": "Y9AAsgCZW-Rz"
      },
      "outputs": [],
      "source": []
    }
  ],
  "metadata": {
    "colab": {
      "authorship_tag": "ABX9TyPvHpyXFLICPHCg+Tz10zXB",
      "include_colab_link": true,
      "provenance": []
    },
    "kernelspec": {
      "display_name": "Python 3",
      "name": "python3"
    },
    "language_info": {
      "name": "python",
      "version": "3.9.0"
    }
  },
  "nbformat": 4,
  "nbformat_minor": 0
}
