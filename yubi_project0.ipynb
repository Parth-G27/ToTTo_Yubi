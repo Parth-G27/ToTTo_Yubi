{
  "cells": [
    {
      "cell_type": "markdown",
      "metadata": {
        "id": "view-in-github",
        "colab_type": "text"
      },
      "source": [
        "<a href=\"https://colab.research.google.com/github/Parth-G27/ToTTo_Yubi/blob/Build_and_run/yubi_project0.ipynb\" target=\"_parent\"><img src=\"https://colab.research.google.com/assets/colab-badge.svg\" alt=\"Open In Colab\"/></a>"
      ]
    },
    {
      "cell_type": "code",
      "execution_count": 53,
      "metadata": {
        "id": "C9Rs_YY7CtYL"
      },
      "outputs": [],
      "source": [
        "import pandas as pd\n",
        "import numpy as np\n",
        "from google.colab import drive\n",
        "df = pd.read_csv('/content/sample_data/california_housing_test.csv')\n",
        "# /content/sample_data/financial_data0.csv\n",
        "financial_data = {}"
      ]
    },
    {
      "cell_type": "code",
      "source": [
        "print(df.columns)"
      ],
      "metadata": {
        "colab": {
          "base_uri": "https://localhost:8080/"
        },
        "id": "eQ1HwiCjhDP3",
        "outputId": "e59a055f-3227-4339-e415-c3fe48d6435d"
      },
      "execution_count": 54,
      "outputs": [
        {
          "output_type": "stream",
          "name": "stdout",
          "text": [
            "Index(['longitude', 'latitude', 'housing_median_age', 'total_rooms',\n",
            "       'total_bedrooms', 'population', 'households', 'median_income',\n",
            "       'median_house_value'],\n",
            "      dtype='object')\n"
          ]
        }
      ]
    },
    {
      "cell_type": "code",
      "source": [
        "for i in df.columns:\n",
        "  financial_data[i]=df[i]\n"
      ],
      "metadata": {
        "id": "Cx85NGAnhHVo"
      },
      "execution_count": 55,
      "outputs": []
    },
    {
      "cell_type": "code",
      "source": [
        "print(financial_data.keys())"
      ],
      "metadata": {
        "colab": {
          "base_uri": "https://localhost:8080/"
        },
        "id": "9LKAUAFIhMqM",
        "outputId": "e4886cd7-b09e-41f7-c3ef-77f3b3f20af4"
      },
      "execution_count": 56,
      "outputs": [
        {
          "output_type": "stream",
          "name": "stdout",
          "text": [
            "dict_keys(['longitude', 'latitude', 'housing_median_age', 'total_rooms', 'total_bedrooms', 'population', 'households', 'median_income', 'median_house_value'])\n"
          ]
        }
      ]
    },
    {
      "cell_type": "code",
      "source": [
        "for i in financial_data.keys():\n",
        "  print(i)\n",
        "  print(type(financial_data[i][0]))\n",
        "  print('---')"
      ],
      "metadata": {
        "colab": {
          "base_uri": "https://localhost:8080/"
        },
        "id": "HfxLTDMrlW_W",
        "outputId": "0c6cf387-0881-4e21-84b9-bdb3095ccf67"
      },
      "execution_count": 57,
      "outputs": [
        {
          "output_type": "stream",
          "name": "stdout",
          "text": [
            "longitude\n",
            "<class 'numpy.float64'>\n",
            "---\n",
            "latitude\n",
            "<class 'numpy.float64'>\n",
            "---\n",
            "housing_median_age\n",
            "<class 'numpy.float64'>\n",
            "---\n",
            "total_rooms\n",
            "<class 'numpy.float64'>\n",
            "---\n",
            "total_bedrooms\n",
            "<class 'numpy.float64'>\n",
            "---\n",
            "population\n",
            "<class 'numpy.float64'>\n",
            "---\n",
            "households\n",
            "<class 'numpy.float64'>\n",
            "---\n",
            "median_income\n",
            "<class 'numpy.float64'>\n",
            "---\n",
            "median_house_value\n",
            "<class 'numpy.float64'>\n",
            "---\n"
          ]
        }
      ]
    },
    {
      "cell_type": "code",
      "source": [
        "print(financial_data)"
      ],
      "metadata": {
        "colab": {
          "base_uri": "https://localhost:8080/"
        },
        "id": "WQXtwojOW1c3",
        "outputId": "8584d622-2f2a-4c14-c1ad-9cb67805a65a"
      },
      "execution_count": 58,
      "outputs": [
        {
          "output_type": "stream",
          "name": "stdout",
          "text": [
            "{'longitude': 0      -122.05\n",
            "1      -118.30\n",
            "2      -117.81\n",
            "3      -118.36\n",
            "4      -119.67\n",
            "         ...  \n",
            "2995   -119.86\n",
            "2996   -118.14\n",
            "2997   -119.70\n",
            "2998   -117.12\n",
            "2999   -119.63\n",
            "Name: longitude, Length: 3000, dtype: float64, 'latitude': 0       37.37\n",
            "1       34.26\n",
            "2       33.78\n",
            "3       33.82\n",
            "4       36.33\n",
            "        ...  \n",
            "2995    34.42\n",
            "2996    34.06\n",
            "2997    36.30\n",
            "2998    34.10\n",
            "2999    34.42\n",
            "Name: latitude, Length: 3000, dtype: float64, 'housing_median_age': 0       27.0\n",
            "1       43.0\n",
            "2       27.0\n",
            "3       28.0\n",
            "4       19.0\n",
            "        ... \n",
            "2995    23.0\n",
            "2996    27.0\n",
            "2997    10.0\n",
            "2998    40.0\n",
            "2999    42.0\n",
            "Name: housing_median_age, Length: 3000, dtype: float64, 'total_rooms': 0       3885.0\n",
            "1       1510.0\n",
            "2       3589.0\n",
            "3         67.0\n",
            "4       1241.0\n",
            "         ...  \n",
            "2995    1450.0\n",
            "2996    5257.0\n",
            "2997     956.0\n",
            "2998      96.0\n",
            "2999    1765.0\n",
            "Name: total_rooms, Length: 3000, dtype: float64, 'total_bedrooms': 0        661.0\n",
            "1        310.0\n",
            "2        507.0\n",
            "3         15.0\n",
            "4        244.0\n",
            "         ...  \n",
            "2995     642.0\n",
            "2996    1082.0\n",
            "2997     201.0\n",
            "2998      14.0\n",
            "2999     263.0\n",
            "Name: total_bedrooms, Length: 3000, dtype: float64, 'population': 0       1537.0\n",
            "1        809.0\n",
            "2       1484.0\n",
            "3         49.0\n",
            "4        850.0\n",
            "         ...  \n",
            "2995    1258.0\n",
            "2996    3496.0\n",
            "2997     693.0\n",
            "2998      46.0\n",
            "2999     753.0\n",
            "Name: population, Length: 3000, dtype: float64, 'households': 0        606.0\n",
            "1        277.0\n",
            "2        495.0\n",
            "3         11.0\n",
            "4        237.0\n",
            "         ...  \n",
            "2995     607.0\n",
            "2996    1036.0\n",
            "2997     220.0\n",
            "2998      14.0\n",
            "2999     260.0\n",
            "Name: households, Length: 3000, dtype: float64, 'median_income': 0       6.6085\n",
            "1       3.5990\n",
            "2       5.7934\n",
            "3       6.1359\n",
            "4       2.9375\n",
            "         ...  \n",
            "2995    1.1790\n",
            "2996    3.3906\n",
            "2997    2.2895\n",
            "2998    3.2708\n",
            "2999    8.5608\n",
            "Name: median_income, Length: 3000, dtype: float64, 'median_house_value': 0       344700.0\n",
            "1       176500.0\n",
            "2       270500.0\n",
            "3       330000.0\n",
            "4        81700.0\n",
            "          ...   \n",
            "2995    225000.0\n",
            "2996    237200.0\n",
            "2997     62000.0\n",
            "2998    162500.0\n",
            "2999    500001.0\n",
            "Name: median_house_value, Length: 3000, dtype: float64}\n"
          ]
        }
      ]
    },
    {
      "cell_type": "code",
      "source": [
        "# mean_info={}\n",
        "# for i in financial_data.keys():\n",
        "#   mean_info[i] = np.mean(financial_data[i])"
      ],
      "metadata": {
        "id": "Y9AAsgCZW-Rz"
      },
      "execution_count": 59,
      "outputs": []
    },
    {
      "cell_type": "code",
      "source": [
        "# for i in financial_data.keys():\n",
        "#   print(financial_data[i])\n",
        "\n",
        "# financial_data['latitude']"
      ],
      "metadata": {
        "id": "KAolfjrpathC"
      },
      "execution_count": 60,
      "outputs": []
    },
    {
      "cell_type": "code",
      "source": [],
      "metadata": {
        "id": "vTOXpK1Ha9CR"
      },
      "execution_count": 60,
      "outputs": []
    }
  ],
  "metadata": {
    "colab": {
      "provenance": [],
      "authorship_tag": "ABX9TyOxuLNbmq7bPPc+LG5f/5sJ",
      "include_colab_link": true
    },
    "kernelspec": {
      "display_name": "Python 3",
      "name": "python3"
    },
    "language_info": {
      "name": "python"
    }
  },
  "nbformat": 4,
  "nbformat_minor": 0
}